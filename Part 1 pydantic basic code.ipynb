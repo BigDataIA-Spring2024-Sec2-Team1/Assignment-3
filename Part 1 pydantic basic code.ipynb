{
 "cells": [
  {
   "cell_type": "markdown",
   "id": "0214d65e",
   "metadata": {},
   "source": [
    "Scraping"
   ]
  },
  {
   "cell_type": "code",
   "execution_count": null,
   "id": "e36afe85",
   "metadata": {},
   "outputs": [],
   "source": [
    "pip install pydantic"
   ]
  },
  {
   "cell_type": "code",
   "execution_count": null,
   "id": "3622f92f",
   "metadata": {},
   "outputs": [],
   "source": [
    "from pydantic import BaseModel, HttpUrl\n",
    "from typing import Optional\n",
    "class URLClass(BaseModel):\n",
    "    title: str\n",
    "    topic: str\n",
    "    year: int\n",
    "    link: HttpUrl\n",
    "    level: str\n",
    "    introduction: str\n",
    "    learning_outcomes: str\n",
    "    summary: Optional[str]\n",
    "    \n",
    "\n",
    "from pydantic import ValidationError\n",
    "try:\n",
    "    URLClass(title=\"_____\")\n",
    "except ValidationError as ex:\n",
    "    print(ex)"
   ]
  },
  {
   "cell_type": "markdown",
   "id": "14b8971f",
   "metadata": {},
   "source": [
    "Metadata"
   ]
  },
  {
   "cell_type": "code",
   "execution_count": null,
   "id": "72dad677",
   "metadata": {},
   "outputs": [],
   "source": [
    "from pydantic import BaseModel\n",
    "from pathlib import Path\n",
    "class MetaDataPDFClass(BaseModel):\n",
    "    text: str\n",
    "    section_title: str\n",
    "    file_path: Path\n",
    "  \n",
    "\n",
    "from pydantic import ValidationError\n",
    "try:\n",
    "    MetaDataPDFClass(text=\"_____\")\n",
    "except ValidationError as ex:\n",
    "    print(ex)\n",
    "\n"
   ]
  },
  {
   "cell_type": "markdown",
   "id": "1039b939",
   "metadata": {},
   "source": [
    "pdf"
   ]
  },
  {
   "cell_type": "code",
   "execution_count": null,
   "id": "1d836d65",
   "metadata": {},
   "outputs": [],
   "source": [
    "from pydantic import BaseModel\n",
    "from typing import Union\n",
    "class ContentPDFClass(BaseModel):\n",
    "    file_name: str\n",
    "    extracted_content: Union[int, str]\n",
    "  \n",
    "\n",
    "from pydantic import ValidationError\n",
    "try:\n",
    "    ContentPDFClass(file_name=\"_____\")\n",
    "except ValidationError as ex:\n",
    "    print(ex)\n",
    "\n"
   ]
  },
  {
   "cell_type": "code",
   "execution_count": null,
   "id": "1dff2421",
   "metadata": {},
   "outputs": [],
   "source": []
  }
 ],
 "metadata": {
  "kernelspec": {
   "display_name": "Python 3 (ipykernel)",
   "language": "python",
   "name": "python3"
  },
  "language_info": {
   "codemirror_mode": {
    "name": "ipython",
    "version": 3
   },
   "file_extension": ".py",
   "mimetype": "text/x-python",
   "name": "python",
   "nbconvert_exporter": "python",
   "pygments_lexer": "ipython3",
   "version": "3.11.4"
  }
 },
 "nbformat": 4,
 "nbformat_minor": 5
}
