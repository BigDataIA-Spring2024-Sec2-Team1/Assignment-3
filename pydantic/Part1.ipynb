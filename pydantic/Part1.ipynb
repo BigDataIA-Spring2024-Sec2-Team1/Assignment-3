{
 "cells": [
  {
   "cell_type": "markdown",
   "id": "d58c9d24",
   "metadata": {},
   "source": [
    "## URLClass"
   ]
  },
  {
   "cell_type": "code",
   "execution_count": 141,
   "id": "98db91da",
   "metadata": {},
   "outputs": [],
   "source": [
    "import pytest\n",
    "from pydantic import BaseModel, HttpUrl, ValidationError, constr, field_validator\n",
    "from typing import Optional\n",
    "\n",
    "class URLClass(BaseModel):\n",
    "    title: constr(min_length=1, max_length=200)\n",
    "    topic: constr(min_length=1, max_length=200)\n",
    "    published_year: int\n",
    "    level: constr(pattern=r'^Level\\s(I|II|III)$')\n",
    "    introduction: Optional[str]\n",
    "    learning_outcomes: Optional[str]\n",
    "    summary: Optional[str]\n",
    "    overview: Optional[str]\n",
    "    link: HttpUrl\n",
    "\n",
    "    @field_validator('published_year')\n",
    "    @classmethod\n",
    "    def validate_published_year(cls, value):\n",
    "        if not (2018 <= value <= 2024):\n",
    "            raise ValueError('Published year must be between 2018 and 2024')\n",
    "        return value\n",
    "\n",
    "    @field_validator('learning_outcomes')\n",
    "    @classmethod\n",
    "    def validate_learning_outcomes(cls, value):\n",
    "        if len(value.split()) < 10:\n",
    "            raise ValueError('Learning outcomes must be at least 10 words long')\n",
    "        return value\n",
    "\n",
    "    @field_validator('title')\n",
    "    @classmethod\n",
    "    def validate_title(cls, value):\n",
    "        if not value.strip():\n",
    "            raise ValueError('Title cannot be empty')\n",
    "        return value\n",
    "\n",
    "    @field_validator('topic')\n",
    "    @classmethod\n",
    "    def validate_topic(cls, value):\n",
    "        if not value.strip():\n",
    "            raise ValueError('Topic cannot be empty')\n",
    "        return value\n",
    "\n",
    "    @field_validator('level')\n",
    "    @classmethod\n",
    "    def validate_level(cls, value):\n",
    "        if value not in ['Level I', 'Level II', 'Level III']:\n",
    "            raise ValueError('Level must be one of: \"Level I\", \"Level II\", \"Level III\"')\n",
    "        return value\n",
    "\n",
    "    @field_validator('introduction')\n",
    "    @classmethod\n",
    "    def validate_introduction(cls, value):\n",
    "        if value and len(value) < 50:\n",
    "            raise ValueError('Introduction must be at least 50 characters long')\n",
    "        return value\n",
    "\n",
    "    @field_validator('summary')\n",
    "    @classmethod\n",
    "    def validate_summary(cls, value):\n",
    "        if value and len(value.split()) < 10:\n",
    "            raise ValueError('Summary must be at least 10 words long')\n",
    "        return value\n",
    "\n",
    "    @field_validator('overview')\n",
    "    @classmethod\n",
    "    def validate_overview(cls, value):\n",
    "        if value and len(value.split()) < 10:\n",
    "            raise ValueError('Overview must be at least 10 words long')\n",
    "        return value\n",
    "\n",
    "    @field_validator('link')\n",
    "    @classmethod\n",
    "    def validate_link(cls, value):\n",
    "        if not str(value).startswith('https://www.cfainstitute.org'):\n",
    "            raise ValueError('Link must start with \"https://www.cfainstitute.org\"')\n",
    "        return value\n",
    "\n",
    "# Testing the validations\n",
    "# Add separate test functions for each validation\n"
   ]
  },
  {
   "cell_type": "code",
   "execution_count": 154,
   "id": "24e60e2c",
   "metadata": {},
   "outputs": [],
   "source": [
    "import pytest\n",
    "from pydantic import ValidationError\n",
    "\n",
    "def test_valid_data(data):\n",
    "    assert URLClass(**data)\n",
    "    print(\"Valid data\")\n",
    "    \n",
    "@pytest.mark.parametrize(\"invalid_title\", [\"\", None])\n",
    "def test_invalid_title(invalid_title):\n",
    "    data = {\n",
    "        \"title\": invalid_title,\n",
    "        \"topic\": \"Quantitative Methods\",\n",
    "        \"published_year\": 2024,\n",
    "        \"level\": \"Level II\",\n",
    "        \"introduction\": \"Investment firms are increasingly using technology at every step of the investment management value chain—from improving their understanding of clients to uncovering new sources of alpha and executing trades more efficiently. Machine learning techniques, a central part of that technology, are the subject of this reading. These techniques first appeared in finance in the 1990s and have since flourished with the explosion of data and cheap computing power.This reading provides a high-level view of machine learning (ML).\",\n",
    "        \"learning_outcomes\": \"The member should be able to: describe supervised machine learning, unsupervised machine learning, and deep learning;\",\n",
    "        \"summary\": \"Machine learning methods are gaining usage at many stages in the investment management value chain. Among the major points made are the following\",\n",
    "        \"overview\": \"\",\n",
    "        \"link\": \"https://www.cfainstitute.org/membership/professional-development/refresher-readings/machine-learning\"\n",
    "    }\n",
    "    with pytest.raises(ValidationError) as excinfo:\n",
    "        URLClass(**data)\n",
    "    # Print the captured exception\n",
    "#     print(excinfo)\n",
    "    # Or print the exception message\n",
    "    print(str(excinfo.value))\n",
    "\n",
    "# Test function for invalid published_year\n",
    "@pytest.mark.parametrize(\"invalid_published_year\", [1999, 2051])\n",
    "def test_invalid_published_year(invalid_published_year):\n",
    "    data = {\n",
    "        \"title\": \"Machine Learning\",\n",
    "        \"topic\": \"Quantitative Methods\",\n",
    "        \"published_year\": invalid_published_year,\n",
    "        \"level\": \"Level II\",\n",
    "        \"introduction\": \"Investment firms are increasingly using technology at every step of the investment management value chain—from improving their understanding of clients to uncovering new sources of alpha and executing trades more efficiently. Machine learning techniques, a central part of that technology, are the subject of this reading. These techniques first appeared in finance in the 1990s and have since flourished with the explosion of data and cheap computing power.This reading provides a high-level view of machine learning (ML).\",\n",
    "        \"learning_outcomes\": \"The member should be able to: describe supervised machine learning, unsupervised machine learning, and deep learning;\",\n",
    "        \"summary\": \"Machine learning methods are gaining usage at many stages in the investment management value chain. Among the major points made are the following\",\n",
    "        \"overview\": \"\",\n",
    "        \"link\": \"https://www.cfainstitute.org/membership/professional-development/refresher-readings/machine-learning\"\n",
    "    }\n",
    "    # Ensure validation error is raised for invalid published year\n",
    "    with pytest.raises(ValidationError) as excinfo:\n",
    "        URLClass(**data)\n",
    "    print(str(excinfo.value))\n",
    "\n",
    "@pytest.mark.parametrize(\"invalid_link\", [\"invalid_link\", \"ftp://example.com\"])\n",
    "def test_invalid_link(invalid_link):\n",
    "    data = {\n",
    "        \"title\": \"Machine Learning\",\n",
    "        \"topic\": \"Quantitative Methods\",\n",
    "        \"published_year\": 2024,\n",
    "        \"level\": \"Level II\",\n",
    "        \"introduction\": \"Investment firms are increasingly using technology at every step of the investment management value chain—from improving their understanding of clients to uncovering new sources of alpha and executing trades more efficiently. Machine learning techniques, a central part of that technology, are the subject of this reading. These techniques first appeared in finance in the 1990s and have since flourished with the explosion of data and cheap computing power.This reading provides a high-level view of machine learning (ML).\",\n",
    "        \"learning_outcomes\": \"The member should be able to: describe supervised machine learning, unsupervised machine learning, and deep learning;\",\n",
    "        \"summary\": \"Machine learning methods are gaining usage at many stages in the investment management value chain. Among the major points made are the following\",\n",
    "        \"overview\": \"\",\n",
    "        \"link\": invalid_link  # Invalid link\n",
    "    }\n",
    "    # Ensure validation error is raised for invalid link\n",
    "    with pytest.raises(ValidationError) as excinfo:\n",
    "        URLClass(**data)\n",
    "    print(str(excinfo.value))\n"
   ]
  },
  {
   "cell_type": "markdown",
   "id": "c606974d",
   "metadata": {},
   "source": [
    "### VALID DATA EXAMPLE 1"
   ]
  },
  {
   "cell_type": "code",
   "execution_count": 156,
   "id": "e699a32d",
   "metadata": {},
   "outputs": [
    {
     "name": "stdout",
     "output_type": "stream",
     "text": [
      "Valid data\n"
     ]
    }
   ],
   "source": [
    "data1 = {\n",
    "        \"title\": \"Time Value of Money in Finance\",\n",
    "        \"topic\": \"Quantitative Methods\",\n",
    "        \"published_year\": 2024,\n",
    "        \"level\": \"Level I\",\n",
    "        \"introduction\": \"Faced with an overwhelming amount of data, analysts must deal with the task of wrangling those data into something that provides a clearer picture of what is going on. We use the concepts and tools of hypothesis testing to address these issues. Hypothesis testing is part of statistical inference, the process of making judgments about a larger group (a population) based on a smaller group of observations (that is, a sample). The concepts and tools of hypothesis testing provide an objective means to gauge whether the available evidence supports the hypothesis. After applying a statistical test of a hypothesis, we should have a clearer idea of the probability that a hypothesis is true or not, although our conclusion always stops short of certainty.\",\n",
    "        \"learning_outcomes\": \"The member should be able to: define a hypothesis, describe the steps of hypothesis testing, and describe and interpret the choice of the null and alternative hypotheses; compare and contrast one-tailed and two-tailed tests of hypotheses; explain a test statistic, Type I and Type II errors, a significance level, how significance levels are used in hypothesis testing, and the power of a test; explain a decision rule and the relation between confidence intervals and hypothesis tests, and determine whether a statistically significant result is also economically meaningful.\",\n",
    "        \"summary\": \"In this reading, we have presented the concepts and methods of statistical inference and hypothesis testing. A hypothesis is a statement about one or more populations. The steps in testing a hypothesis are as follows: State the hypotheses. Identify the appropriate test statistic and its probability distribution. Specify the significance level. State the decision rule. Collect the data and calculate the test statistic. Make a decision.\",\n",
    "        \"overview\": \"\",\n",
    "        \"link\": \"https://www.cfainstitute.org/membership/professional-development/refresher-readings/hypothesis-testing\"\n",
    "    }\n",
    "test_valid_data(data1)"
   ]
  },
  {
   "cell_type": "markdown",
   "id": "7121b63c",
   "metadata": {},
   "source": [
    "### VALID DATA EXAMPLE 2"
   ]
  },
  {
   "cell_type": "code",
   "execution_count": 159,
   "id": "164cebed",
   "metadata": {},
   "outputs": [
    {
     "name": "stdout",
     "output_type": "stream",
     "text": [
      "Valid data\n"
     ]
    }
   ],
   "source": [
    "data2 = {\n",
    "        \"title\": \"Hypothesis Testing\",\n",
    "        \"topic\": \"Quantitative Methods\",\n",
    "        \"published_year\": 2024,\n",
    "        \"level\": \"Level I\",\n",
    "        \"introduction\": \"Faced with an overwhelming amount of data, analysts must deal with the task of wrangling those data into something that provides a clearer picture of what is going on. We use the concepts and tools of hypothesis testing to address these issues. Hypothesis testing is part of statistical inference, the process of making judgments about a larger group (a population) based on a smaller group of observations (that is, a sample). The concepts and tools of hypothesis testing provide an objective means to gauge whether the available evidence supports the hypothesis. After applying a statistical test of a hypothesis, we should have a clearer idea of the probability that a hypothesis is true or not, although our conclusion always stops short of certainty.\",\n",
    "        \"learning_outcomes\": \"The member should be able to: define a hypothesis, describe the steps of hypothesis testing, and describe and interpret the choice of the null and alternative hypotheses; compare and contrast one-tailed and two-tailed tests of hypotheses; explain a test statistic, Type I and Type II errors, a significance level, how significance levels are used in hypothesis testing, and the power of a test; explain a decision rule and the relation between confidence intervals and hypothesis tests, and determine whether a statistically significant result is also economically meaningful.\",\n",
    "        \"summary\": \"In this reading, we have presented the concepts and methods of statistical inference and hypothesis testing. A hypothesis is a statement about one or more populations. The steps in testing a hypothesis are as follows: State the hypotheses. Identify the appropriate test statistic and its probability distribution. Specify the significance level. State the decision rule. Collect the data and calculate the test statistic. Make a decision.\",\n",
    "        \"overview\": \"\",\n",
    "        \"link\": \"https://www.cfainstitute.org/membership/professional-development/refresher-readings/hypothesis-testing\"\n",
    "    }\n",
    "test_valid_data(data2)"
   ]
  },
  {
   "cell_type": "markdown",
   "id": "5f660564",
   "metadata": {},
   "source": [
    "### VALID DATA EXAMPLE 3"
   ]
  },
  {
   "cell_type": "code",
   "execution_count": 157,
   "id": "79d15e66",
   "metadata": {},
   "outputs": [
    {
     "name": "stdout",
     "output_type": "stream",
     "text": [
      "Valid data\n"
     ]
    }
   ],
   "source": [
    "data2 = {\n",
    "        \"title\": \"Machine Learning\",\n",
    "        \"topic\": \"Quantitative Methods\",\n",
    "        \"published_year\": 2024,\n",
    "        \"level\": \"Level II\",\n",
    "        \"introduction\": \"Investment firms are increasingly using technology at every step of the investment management value chain—from improving their understanding of clients to uncovering new sources of alpha and executing trades more efficiently. Machine learning techniques, a central part of that technology, are the subject of this reading. These techniques first appeared in finance in the 1990s and have since flourished with the explosion of data and cheap computing power.This reading provides a high-level view of machine learning (ML).\",\n",
    "        \"learning_outcomes\": \"The member should be able to: describe supervised machine learning, unsupervised machine learning, and deep learning;\",\n",
    "        \"summary\": \"Machine learning methods are gaining usage at many stages in the investment management value chain. Among the major points made are the following\",\n",
    "        \"overview\": \"\",\n",
    "        \"link\": \"https://www.cfainstitute.org/membership/professional-development/refresher-readings/machine-learning\"\n",
    "    }\n",
    "test_valid_data(data2)"
   ]
  },
  {
   "cell_type": "markdown",
   "id": "68525a04",
   "metadata": {},
   "source": [
    "### INVALID DATA EXAMPLE 1"
   ]
  },
  {
   "cell_type": "code",
   "execution_count": 161,
   "id": "6e789f45",
   "metadata": {},
   "outputs": [
    {
     "name": "stdout",
     "output_type": "stream",
     "text": [
      "1 validation error for URLClass\n",
      "published_year\n",
      "  Value error, Published year must be between 2018 and 2024 [type=value_error, input_value=1992, input_type=int]\n",
      "    For further information visit https://errors.pydantic.dev/2.6/v/value_error\n"
     ]
    }
   ],
   "source": [
    "test_invalid_published_year(1992)"
   ]
  },
  {
   "cell_type": "markdown",
   "id": "a4ef8b34",
   "metadata": {},
   "source": [
    "### INVALID DATA EXAMPLE 2"
   ]
  },
  {
   "cell_type": "code",
   "execution_count": 192,
   "id": "50f6c324",
   "metadata": {},
   "outputs": [
    {
     "ename": "ValidationError",
     "evalue": "1 validation error for URLClass\nlearning_outcomes\n  Value error, Learning outcomes must be at least 10 words long [type=value_error, input_value='', input_type=str]\n    For further information visit https://errors.pydantic.dev/2.6/v/value_error",
     "output_type": "error",
     "traceback": [
      "\u001b[0;31m---------------------------------------------------------------------------\u001b[0m",
      "\u001b[0;31mValidationError\u001b[0m                           Traceback (most recent call last)",
      "Cell \u001b[0;32mIn[192], line 12\u001b[0m\n\u001b[1;32m      1\u001b[0m data3 \u001b[38;5;241m=\u001b[39m {\n\u001b[1;32m      2\u001b[0m         \u001b[38;5;124m\"\u001b[39m\u001b[38;5;124mtitle\u001b[39m\u001b[38;5;124m\"\u001b[39m: \u001b[38;5;124m\"\u001b[39m\u001b[38;5;124mInterest Rate Risk and Return\u001b[39m\u001b[38;5;124m\"\u001b[39m,\n\u001b[1;32m      3\u001b[0m         \u001b[38;5;124m\"\u001b[39m\u001b[38;5;124mtopic\u001b[39m\u001b[38;5;124m\"\u001b[39m: \u001b[38;5;124m\"\u001b[39m\u001b[38;5;124mFixed Income\u001b[39m\u001b[38;5;124m\"\u001b[39m,\n\u001b[0;32m   (...)\u001b[0m\n\u001b[1;32m     10\u001b[0m         \u001b[38;5;124m\"\u001b[39m\u001b[38;5;124mlink\u001b[39m\u001b[38;5;124m\"\u001b[39m: \u001b[38;5;124m\"\u001b[39m\u001b[38;5;124mhttps://www.cfainstitute.org/membership/professional-development/refresher-readings/Interest-Rate-Risk-and-Return\u001b[39m\u001b[38;5;124m\"\u001b[39m\n\u001b[1;32m     11\u001b[0m     }\n\u001b[0;32m---> 12\u001b[0m \u001b[43mtest_valid_data\u001b[49m\u001b[43m(\u001b[49m\u001b[43mdata3\u001b[49m\u001b[43m)\u001b[49m\n",
      "Cell \u001b[0;32mIn[154], line 5\u001b[0m, in \u001b[0;36mtest_valid_data\u001b[0;34m(data)\u001b[0m\n\u001b[1;32m      4\u001b[0m \u001b[38;5;28;01mdef\u001b[39;00m \u001b[38;5;21mtest_valid_data\u001b[39m(data):\n\u001b[0;32m----> 5\u001b[0m     \u001b[38;5;28;01massert\u001b[39;00m \u001b[43mURLClass\u001b[49m\u001b[43m(\u001b[49m\u001b[38;5;241;43m*\u001b[39;49m\u001b[38;5;241;43m*\u001b[39;49m\u001b[43mdata\u001b[49m\u001b[43m)\u001b[49m\n\u001b[1;32m      6\u001b[0m     \u001b[38;5;28mprint\u001b[39m(\u001b[38;5;124m\"\u001b[39m\u001b[38;5;124mValid data\u001b[39m\u001b[38;5;124m\"\u001b[39m)\n",
      "File \u001b[0;32m~/anaconda3/lib/python3.11/site-packages/pydantic/main.py:171\u001b[0m, in \u001b[0;36mBaseModel.__init__\u001b[0;34m(self, **data)\u001b[0m\n\u001b[1;32m    169\u001b[0m \u001b[38;5;66;03m# `__tracebackhide__` tells pytest and some other tools to omit this function from tracebacks\u001b[39;00m\n\u001b[1;32m    170\u001b[0m __tracebackhide__ \u001b[38;5;241m=\u001b[39m \u001b[38;5;28;01mTrue\u001b[39;00m\n\u001b[0;32m--> 171\u001b[0m \u001b[38;5;28;43mself\u001b[39;49m\u001b[38;5;241;43m.\u001b[39;49m\u001b[43m__pydantic_validator__\u001b[49m\u001b[38;5;241;43m.\u001b[39;49m\u001b[43mvalidate_python\u001b[49m\u001b[43m(\u001b[49m\u001b[43mdata\u001b[49m\u001b[43m,\u001b[49m\u001b[43m \u001b[49m\u001b[43mself_instance\u001b[49m\u001b[38;5;241;43m=\u001b[39;49m\u001b[38;5;28;43mself\u001b[39;49m\u001b[43m)\u001b[49m\n",
      "\u001b[0;31mValidationError\u001b[0m: 1 validation error for URLClass\nlearning_outcomes\n  Value error, Learning outcomes must be at least 10 words long [type=value_error, input_value='', input_type=str]\n    For further information visit https://errors.pydantic.dev/2.6/v/value_error"
     ]
    }
   ],
   "source": [
    "data3 = {\n",
    "        \"title\": \"Interest Rate Risk and Return\",\n",
    "        \"topic\": \"Fixed Income\",\n",
    "        \"published_year\": 2024,\n",
    "        \"level\": \"Level I\",\n",
    "        \"introduction\": \"\",\n",
    "        \"learning_outcomes\": \"\",\n",
    "        \"summary\": \"\",\n",
    "        \"overview\": \"Prior lessons on yield measures established that a fixed-income investor’s rate of return will equal a bond’s yield-to-maturity (YTM) under certain assumptions. In these lessons, we explore the sources of return for fixed-income investments and demonstrate investment returns in different scenarios, including the one embedded in the YTM calculations. Prior lessons also established interest rate risk. We show how investment horizon, in relation to a bond’s features, is a key determinant of interest rate risk for investors and how different investors in the same fixed-income invest- ment can have different returns and views on risk.\",\n",
    "        \"link\": \"https://www.cfainstitute.org/membership/professional-development/refresher-readings/Interest-Rate-Risk-and-Return\"\n",
    "    }\n",
    "test_valid_data(data3)"
   ]
  },
  {
   "cell_type": "markdown",
   "id": "e77a2d63",
   "metadata": {},
   "source": [
    "### INVALID DATA EXAMPLE 3"
   ]
  },
  {
   "cell_type": "code",
   "execution_count": 163,
   "id": "f2ce03a4",
   "metadata": {},
   "outputs": [
    {
     "name": "stdout",
     "output_type": "stream",
     "text": [
      "1 validation error for URLClass\n",
      "title\n",
      "  String should have at least 1 character [type=string_too_short, input_value='', input_type=str]\n",
      "    For further information visit https://errors.pydantic.dev/2.6/v/string_too_short\n"
     ]
    }
   ],
   "source": [
    "test_invalid_title(\"\")"
   ]
  },
  {
   "cell_type": "markdown",
   "id": "468e3026",
   "metadata": {},
   "source": [
    "### INVALID DATA EXAMPLE 4"
   ]
  },
  {
   "cell_type": "code",
   "execution_count": 164,
   "id": "d33dd080",
   "metadata": {},
   "outputs": [
    {
     "name": "stdout",
     "output_type": "stream",
     "text": [
      "1 validation error for URLClass\n",
      "link\n",
      "  URL scheme should be 'http' or 'https' [type=url_scheme, input_value='ftp://example.com', input_type=str]\n",
      "    For further information visit https://errors.pydantic.dev/2.6/v/url_scheme\n"
     ]
    }
   ],
   "source": [
    "test_invalid_link(\"ftp://example.com\")"
   ]
  },
  {
   "cell_type": "markdown",
   "id": "83f178e3",
   "metadata": {},
   "source": [
    "### INVALID DATA EXAMPLE 5"
   ]
  },
  {
   "cell_type": "code",
   "execution_count": 165,
   "id": "1ef040a2",
   "metadata": {},
   "outputs": [
    {
     "name": "stdout",
     "output_type": "stream",
     "text": [
      "1 validation error for URLClass\n",
      "link\n",
      "  Value error, Link must start with \"https://www.cfainstitute.org\" [type=value_error, input_value='https://example.com', input_type=str]\n",
      "    For further information visit https://errors.pydantic.dev/2.6/v/value_error\n"
     ]
    }
   ],
   "source": [
    "test_invalid_link(\"https://example.com\")"
   ]
  },
  {
   "cell_type": "markdown",
   "id": "2d9eca2e",
   "metadata": {},
   "source": [
    "## MetaDataPDFClass"
   ]
  },
  {
   "cell_type": "code",
   "execution_count": 196,
   "id": "f8a6f53c",
   "metadata": {},
   "outputs": [],
   "source": [
    "import pytest\n",
    "from pydantic import BaseModel, ValidationError, FilePath\n",
    "from pathlib import Path\n",
    "\n",
    "class MetaDataPDFClass(BaseModel):\n",
    "    text: constr(min_length=1)\n",
    "    section_title: constr(min_length=1)\n",
    "    file_path: Path\n",
    "    para:str\n",
    "    pages:str\n",
    "        \n",
    "    @field_validator('text')\n",
    "    @classmethod\n",
    "    def validate_text(cls, value):\n",
    "        if not value.strip():  # Check if text is not empty or whitespace\n",
    "            raise ValueError('Text cannot be empty')\n",
    "        return value\n",
    "\n",
    "    @field_validator('section_title')\n",
    "    @classmethod\n",
    "    def validate_section_title(cls, value):\n",
    "        if not value.strip():  # Check if section_title is not empty or whitespace\n",
    "            raise ValueError('Section title cannot be empty')\n",
    "        return value\n",
    "\n",
    "    @field_validator('file_path')\n",
    "    @classmethod\n",
    "    def validate_file_path(cls, value):\n",
    "        if not value.exists():  # Check if file_path exists\n",
    "            raise ValueError('File path does not exist')\n",
    "        return value\n",
    "\n",
    "\n",
    "\n",
    "# def test_invalid_text():\n",
    "#     # Invalid text (empty)\n",
    "#     data = {\n",
    "#         \"text\": \"\",\n",
    "#         \"section_title\": \"\",\n",
    "#         \"file_path\": \"/Users/sudarshan/Big_Data\",\n",
    "#         \"para\":\"0\",\n",
    "#         \"pages\":\"('1', '1')\"\n",
    "#     }\n",
    "#     assert MetaDataPDFClass(**data)\n",
    "    \n",
    "@pytest.mark.parametrize(\"invalid_text\", \"\")\n",
    "def test_invalid_text(invalid_text):\n",
    "    data = {\n",
    "        \"text\": invalid_text,\n",
    "        \"section_title\": \"Introduction\",\n",
    "        \"file_path\": \"/Users/sudarshan/Big_Data/data.json\",\n",
    "        \"para\":\"0\",\n",
    "        \"pages\":\"('1', '1')\"\n",
    "        \n",
    "    }\n",
    "    # Ensure validation error is raised for invalid link\n",
    "    with pytest.raises(ValidationError) as excinfo:\n",
    "        MetaDataPDFClass(**data)\n",
    "    print(str(excinfo.value))\n",
    "\n",
    "def test_valid_meta_data():\n",
    "    # Valid data\n",
    "    data = {\n",
    "        \"text\": \"Some text from PDF\",\n",
    "        \"section_title\": \"Introduction\",\n",
    "        \"file_path\": \"/Users/sudarshan/Big_Data/data.json\",\n",
    "        \"para\":\"0\",\n",
    "        \"pages\":\"('1', '1')\"\n",
    "        \n",
    "    }\n",
    "    # Ensure no validation error is raised\n",
    "    assert MetaDataPDFClass(**data)\n",
    "\n",
    "\n",
    "@pytest.mark.parametrize(\"file_path\", \"/path/to/nonexistent/file.pdf\")\n",
    "def test_invalid_file_path(file_path):\n",
    "    # Invalid file path (file does not exist)\n",
    "    data = {\n",
    "        \"text\": \"Some text from PDF\",\n",
    "        \"section_title\": \"Introduction\",\n",
    "        \"file_path\": file_path,\n",
    "        \"para\":\"0\",\n",
    "        \"pages\":\"('1', '1')\"\n",
    "    }\n",
    "     # Ensure validation error is raised for invalid link\n",
    "    with pytest.raises(ValidationError) as excinfo:\n",
    "        MetaDataPDFClass(**data)\n",
    "    print(str(excinfo.value))\n"
   ]
  },
  {
   "cell_type": "code",
   "execution_count": 197,
   "id": "39621f35",
   "metadata": {},
   "outputs": [],
   "source": [
    "try:\n",
    "    test_valid_meta_data()\n",
    "except ValidationError as e:\n",
    "    print(e)\n",
    "    \n"
   ]
  },
  {
   "cell_type": "markdown",
   "id": "0f6b832d",
   "metadata": {},
   "source": [
    "### INVALID DATA EXAMPLE 6"
   ]
  },
  {
   "cell_type": "code",
   "execution_count": 200,
   "id": "523f8f78",
   "metadata": {},
   "outputs": [
    {
     "name": "stdout",
     "output_type": "stream",
     "text": [
      "1 validation error for MetaDataPDFClass\n",
      "text\n",
      "  String should have at least 1 character [type=string_too_short, input_value='', input_type=str]\n",
      "    For further information visit https://errors.pydantic.dev/2.6/v/string_too_short\n"
     ]
    }
   ],
   "source": [
    "try:\n",
    "    test_invalid_text(\"\")\n",
    "except ValidationError as e:\n",
    "    print(e)"
   ]
  },
  {
   "cell_type": "markdown",
   "id": "0a964536",
   "metadata": {},
   "source": [
    "### INVALID DATA EXAMPLE 7"
   ]
  },
  {
   "cell_type": "code",
   "execution_count": 201,
   "id": "71401101",
   "metadata": {},
   "outputs": [
    {
     "name": "stdout",
     "output_type": "stream",
     "text": [
      "1 validation error for MetaDataPDFClass\n",
      "file_path\n",
      "  Value error, File path does not exist [type=value_error, input_value='/path/to/nonexistent/file.pdf', input_type=str]\n",
      "    For further information visit https://errors.pydantic.dev/2.6/v/value_error\n"
     ]
    }
   ],
   "source": [
    "try:\n",
    "    test_invalid_file_path(\"/path/to/nonexistent/file.pdf\")\n",
    "except ValidationError as e:\n",
    "    print(e)"
   ]
  },
  {
   "cell_type": "markdown",
   "id": "57ab72b7",
   "metadata": {},
   "source": [
    " "
   ]
  },
  {
   "cell_type": "markdown",
   "id": "15c4fd7f",
   "metadata": {},
   "source": [
    "## ContentPDFClass"
   ]
  },
  {
   "cell_type": "code",
   "execution_count": 206,
   "id": "54aa2b91",
   "metadata": {},
   "outputs": [],
   "source": [
    "class ContentPDFClass(BaseModel):\n",
    "    file_name: constr(pattern=r'^[A-Za-z\\s]+$')\n",
    "    extracted_content:  str\n",
    "\n",
    "\n",
    "@pytest.mark.parametrize(\"file_name\", \"____\")\n",
    "def test_invalid_file_name(file_name):\n",
    "    # Invalid file path (file does not exist)\n",
    "    data = {\n",
    "        \"file_name\": file_name,\n",
    "        \"extracted_content\": \"example extracted content\"\n",
    "    }\n",
    "     # Ensure validation error is raised for invalid link\n",
    "    with pytest.raises(ValidationError) as excinfo:\n",
    "        ContentPDFClass(**data)\n",
    "    print(str(excinfo.value))\n",
    "    \n",
    "\n"
   ]
  },
  {
   "cell_type": "markdown",
   "id": "5c1dc88c",
   "metadata": {},
   "source": [
    "### INVALID DATA EXAMPLE 8"
   ]
  },
  {
   "cell_type": "code",
   "execution_count": 207,
   "id": "6c8f3cbe",
   "metadata": {},
   "outputs": [
    {
     "name": "stdout",
     "output_type": "stream",
     "text": [
      "1 validation error for ContentPDFClass\n",
      "file_name\n",
      "  String should match pattern '^[A-Za-z\\s]+$' [type=string_pattern_mismatch, input_value='_____', input_type=str]\n",
      "    For further information visit https://errors.pydantic.dev/2.6/v/string_pattern_mismatch\n"
     ]
    }
   ],
   "source": [
    "try:\n",
    "    test_invalid_file_name(\"_____\")\n",
    "except ValidationError as e:\n",
    "    print(e)"
   ]
  },
  {
   "cell_type": "markdown",
   "id": "8dd3b7de",
   "metadata": {},
   "source": [
    "## Implemented it in scrapping"
   ]
  },
  {
   "cell_type": "code",
   "execution_count": 152,
   "id": "551a3bbe",
   "metadata": {},
   "outputs": [
    {
     "name": "stdout",
     "output_type": "stream",
     "text": [
      "Requirement already satisfied: chromedriver-autoinstaller in /Users/sudarshan/anaconda3/lib/python3.11/site-packages (0.6.4)\n",
      "Requirement already satisfied: packaging>=23.1 in /Users/sudarshan/anaconda3/lib/python3.11/site-packages (from chromedriver-autoinstaller) (23.2)\n"
     ]
    },
    {
     "data": {
      "text/plain": [
       "'/Users/sudarshan/anaconda3/lib/python3.11/site-packages/chromedriver_autoinstaller/122/chromedriver'"
      ]
     },
     "execution_count": 152,
     "metadata": {},
     "output_type": "execute_result"
    }
   ],
   "source": [
    "!pip install chromedriver-autoinstaller\n",
    "\n",
    "import sys\n",
    "sys.path.insert(0,'/usr/lib/chromium-browser/chromedriver')\n",
    "\n",
    "\n",
    "from selenium import webdriver\n",
    "import chromedriver_autoinstaller\n",
    "\n",
    "\n",
    "# set path to chromedriver as per your configuration\n",
    "chromedriver_autoinstaller.install()\n",
    "\n"
   ]
  },
  {
   "cell_type": "code",
   "execution_count": 153,
   "id": "79b60853",
   "metadata": {},
   "outputs": [
    {
     "name": "stdout",
     "output_type": "stream",
     "text": [
      "                                               title  \\\n",
      "0                               Time-Series Analysis   \n",
      "1                             Credit Analysis Models   \n",
      "2            Introduction to Alternative Investments   \n",
      "3                               Credit Default Swaps   \n",
      "4                     Valuation of Contingent Claims   \n",
      "5  Introduction to Commodities and Commodity Deri...   \n",
      "6                    Understanding Income Statements   \n",
      "7       Pricing and Valuation of Forward Commitments   \n",
      "8                         Private Equity Investments   \n",
      "9  Valuation and Analysis of Bonds with Embedded ...   \n",
      "\n",
      "                              topic published_year     level  \\\n",
      "0              Quantitative Methods           2024  Level II   \n",
      "1                      Fixed Income           2024  Level II   \n",
      "2           Alternative Investments           2023   Level I   \n",
      "3                      Fixed Income           2024  Level II   \n",
      "4                       Derivatives           2024  Level II   \n",
      "5           Alternative Investments           2024  Level II   \n",
      "6  Financial Reporting and Analysis           2023   Level I   \n",
      "7                       Derivatives           2024  Level II   \n",
      "8           Alternative Investments           2023  Level II   \n",
      "9                      Fixed Income           2024  Level II   \n",
      "\n",
      "                                        introduction  \\\n",
      "0  Introduction\\nAs financial analysts, we often ...   \n",
      "1  Introduction\\nCredit analysis plays an importa...   \n",
      "2  Introduction\\nIn this section, we explain what...   \n",
      "3  Introduction\\nDerivative instruments in which ...   \n",
      "4  Introduction\\nA contingent claim is a derivati...   \n",
      "5  Introduction\\nIn the upcoming sections, we pre...   \n",
      "6  Introduction\\nThe income statement presents in...   \n",
      "7  Introduction\\nForward commitments include forw...   \n",
      "8  Introduction\\nPrivate equity’s shift from a ni...   \n",
      "9  Introduction\\nThe valuation of a fixed-rate, o...   \n",
      "\n",
      "                                   learning_outcomes  \\\n",
      "0  The member should be able to:\\n\\n\\n\\ncalculate...   \n",
      "1  The member should be able to:\\n\\nexplain expec...   \n",
      "2  The member should be able to:\\n\\ndescribe type...   \n",
      "3  The member should be able to:\\n\\ndescribe cred...   \n",
      "4  The member should be able to:\\n\\n\\ndescribe an...   \n",
      "5  The member should be able to:\\n\\n\\ncompare cha...   \n",
      "6  The member should be able to:\\n\\n\\ndescribe th...   \n",
      "7  The member should be able to:\\n\\n\\ndescribe th...   \n",
      "8  The member should be able to:\\n\\n\\nexplain sou...   \n",
      "9  The member should be able to:\\n\\ndescribe fixe...   \n",
      "\n",
      "                                             summary overview  \\\n",
      "0  The predicted trend value of a time series in ...            \n",
      "1  This reading has covered several important top...            \n",
      "2  This reading provides a comprehensive introduc...            \n",
      "3  A credit default swap (CDS) is a contract betw...            \n",
      "4  This reading on the valuation of contingent cl...            \n",
      "5  Commodities are a diverse asset class comprisi...            \n",
      "6  This reading has presented the elements of inc...            \n",
      "7  This reading on forward commitment pricing and...            \n",
      "8  Private equity funds seek to add value by vari...            \n",
      "9  An embedded option represents a right that can...            \n",
      "\n",
      "                                                link  \n",
      "0  https://www.cfainstitute.org/membership/profes...  \n",
      "1  https://www.cfainstitute.org/membership/profes...  \n",
      "2  https://www.cfainstitute.org/membership/profes...  \n",
      "3  https://www.cfainstitute.org/membership/profes...  \n",
      "4  https://www.cfainstitute.org/membership/profes...  \n",
      "5  https://www.cfainstitute.org/membership/profes...  \n",
      "6  https://www.cfainstitute.org/membership/profes...  \n",
      "7  https://www.cfainstitute.org/membership/profes...  \n",
      "8  https://www.cfainstitute.org/membership/profes...  \n",
      "9  https://www.cfainstitute.org/membership/profes...  \n"
     ]
    }
   ],
   "source": [
    "#!/usr/bin/env python\n",
    "# coding: utf-8\n",
    "\n",
    "from selenium import webdriver\n",
    "from selenium.webdriver.chrome.service import Service\n",
    "from selenium.webdriver.common.by import By\n",
    "from selenium.webdriver.chrome.options import Options\n",
    "import time\n",
    "from bs4 import BeautifulSoup\n",
    "import pandas as pd\n",
    "from selenium.common.exceptions import NoSuchElementException\n",
    "\n",
    "def initialize_driver():\n",
    "    # setup chrome options\n",
    "    chrome_options = webdriver.ChromeOptions()\n",
    "#     chrome_options.add_argument('--headless') # ensure GUI is off\n",
    "#     chrome_options.add_argument('--no-sandbox')\n",
    "#     chrome_options.add_argument('--disable-dev-shm-usage')\n",
    "    # set path to chromedriver as per your configuration\n",
    "    chromedriver_autoinstaller.install()\n",
    "    driver = webdriver.Chrome(options=chrome_options)\n",
    "    driver.maximize_window()\n",
    "    return driver\n",
    "\n",
    "def close_privacy_warning(driver):\n",
    "    close_button = driver.find_element(By.ID, \"closePrivacyWarning\")\n",
    "    close_button.click()\n",
    "\n",
    "def click_next_button(driver):\n",
    "    try:\n",
    "        next_button = driver.find_element(By.CLASS_NAME, \"coveo-pager-next\")\n",
    "        next_button.click()\n",
    "        time.sleep(2)\n",
    "        return driver\n",
    "    except NoSuchElementException:\n",
    "        return None\n",
    "\n",
    "def scrape(driver, refresher_readings_list):\n",
    "    time.sleep(2)  # Wait for the page to load\n",
    "    html_content = driver.page_source\n",
    "    soup = BeautifulSoup(html_content, 'html.parser')\n",
    "    titles = soup.find_all('h4', class_='coveo-title')\n",
    "    for title in titles:\n",
    "        link = title.find('a', class_='CoveoResultLink')['href']\n",
    "        reading = [title.text.strip(), link]\n",
    "        refresher_readings_list.append(reading)\n",
    "\n",
    "def get_reading_detail_data(driver, reading):\n",
    "    driver.get(reading[1])\n",
    "    time.sleep(5)\n",
    "    html_content = driver.page_source\n",
    "    soup = BeautifulSoup(html_content, 'html.parser')\n",
    "\n",
    "    meta_data = soup.find('div', class_=\"content-utility\")\n",
    "    span_elements = meta_data.find_all('span', class_=['content-utility-curriculum', 'content-utility-topic'])\n",
    "\n",
    "    data = {\n",
    "        \"title\": \"\",\n",
    "        \"topic\": \"\",\n",
    "        \"published_year\": \"\",\n",
    "        \"level\": \"\",\n",
    "        \"introduction\": \"\",\n",
    "        \"learning_outcomes\": \"\",\n",
    "        \"summary\": \"\",\n",
    "        \"overview\": \"\",\n",
    "        \"link\": \"\"\n",
    "    }\n",
    "\n",
    "    # Extract text content from selected span elements\n",
    "    if len(span_elements) >= 3:  # Ensure 'curriculum', 'topic', and 'level' span elements are present\n",
    "        data[\"published_year\"] = span_elements[0].text.strip().split()[0]\n",
    "        data[\"level\"] = span_elements[1].text.strip()\n",
    "        data[\"topic\"] = span_elements[2].text.strip()\n",
    "\n",
    "    # Extract data from other sections\n",
    "    headings = soup.find_all('h2', class_=\"article-section\")\n",
    "    for section in headings:\n",
    "        if section.text in ('Introduction', \"Learning Outcomes\", \"Summary\", \"Overview\"):\n",
    "            if section.text == \"Introduction\":\n",
    "                data[\"introduction\"] = section.findParent().text.strip()\n",
    "            elif section.text == \"Learning Outcomes\":\n",
    "                data[\"learning_outcomes\"] = section.find_next().text.strip()\n",
    "            elif section.text == \"Summary\":\n",
    "                data[\"summary\"] = section.find_next().text.strip()\n",
    "            elif section.text == \"Overview\":\n",
    "                data[\"overview\"] = section.find_next().text.strip()\n",
    "\n",
    "    return data\n",
    "\n",
    "        \n",
    "def scrape_reading_detail(refresher_readings_list):\n",
    "    data_list = []\n",
    "    driver = initialize_driver()\n",
    "    for reading in refresher_readings_list:\n",
    "        reading_detail = get_reading_detail_data(driver, reading)\n",
    "        \n",
    "        reading_detail['title'] = reading[0]\n",
    "        reading_detail['link'] = reading[1]\n",
    "        try:\n",
    "            validated_data = URLClass(**reading_detail)\n",
    "            # If validation is successful, append the validated data to data_list\n",
    "            data_list.append(reading_detail)\n",
    "        except ValidationError as e:\n",
    "            print(reading[0])\n",
    "            # If validation fails, print the error message and continue to the next reading\n",
    "            print(f\"Validation error for reading: {str(e)}\")\n",
    "        \n",
    "    driver.quit()\n",
    "    df = pd.DataFrame(data_list)\n",
    "    return df\n",
    "\n",
    "\n",
    "# def main():\n",
    "refresher_readings_list = []\n",
    "driver = initialize_driver()\n",
    "url = \"https://www.cfainstitute.org/en/membership/professional-development/refresher-readings#first=10&sort=%40refreadingcurriculumyear%20descending\"\n",
    "driver.get(url)\n",
    "close_privacy_warning(driver)\n",
    "for page_num in range(1):\n",
    "    scrape(driver, refresher_readings_list)\n",
    "    driver = click_next_button(driver)\n",
    "    if driver is None:\n",
    "        break\n",
    "df = scrape_reading_detail(refresher_readings_list)\n",
    "print(df)\n",
    "df.to_csv('refresher_readings.csv', index=False)\n",
    "# driver.quit()\n",
    "\n",
    "# if __name__ == \"__main__\":\n",
    "#     main()\n",
    "\n"
   ]
  },
  {
   "cell_type": "code",
   "execution_count": 140,
   "id": "6ae20a50",
   "metadata": {},
   "outputs": [
    {
     "data": {
      "text/html": [
       "<div>\n",
       "<style scoped>\n",
       "    .dataframe tbody tr th:only-of-type {\n",
       "        vertical-align: middle;\n",
       "    }\n",
       "\n",
       "    .dataframe tbody tr th {\n",
       "        vertical-align: top;\n",
       "    }\n",
       "\n",
       "    .dataframe thead th {\n",
       "        text-align: right;\n",
       "    }\n",
       "</style>\n",
       "<table border=\"1\" class=\"dataframe\">\n",
       "  <thead>\n",
       "    <tr style=\"text-align: right;\">\n",
       "      <th></th>\n",
       "      <th>title</th>\n",
       "      <th>topic</th>\n",
       "      <th>published_year</th>\n",
       "      <th>level</th>\n",
       "      <th>introduction</th>\n",
       "      <th>learning_outcomes</th>\n",
       "      <th>summary</th>\n",
       "      <th>overview</th>\n",
       "      <th>link</th>\n",
       "      <th>year</th>\n",
       "    </tr>\n",
       "  </thead>\n",
       "  <tbody>\n",
       "    <tr>\n",
       "      <th>0</th>\n",
       "      <td>Time-Series Analysis</td>\n",
       "      <td>Quantitative Methods</td>\n",
       "      <td></td>\n",
       "      <td>Level II</td>\n",
       "      <td>Introduction\\nAs financial analysts, we often ...</td>\n",
       "      <td>The member should be able to:\\n\\n\\n\\ncalculate...</td>\n",
       "      <td>The predicted trend value of a time series in ...</td>\n",
       "      <td></td>\n",
       "      <td>https://www.cfainstitute.org/membership/profes...</td>\n",
       "      <td>2024</td>\n",
       "    </tr>\n",
       "    <tr>\n",
       "      <th>1</th>\n",
       "      <td>Credit Analysis Models</td>\n",
       "      <td>Fixed Income</td>\n",
       "      <td></td>\n",
       "      <td>Level II</td>\n",
       "      <td>Introduction\\nCredit analysis plays an importa...</td>\n",
       "      <td>The member should be able to:\\n\\nexplain expec...</td>\n",
       "      <td>This reading has covered several important top...</td>\n",
       "      <td></td>\n",
       "      <td>https://www.cfainstitute.org/membership/profes...</td>\n",
       "      <td>2024</td>\n",
       "    </tr>\n",
       "    <tr>\n",
       "      <th>2</th>\n",
       "      <td>Introduction to Alternative Investments</td>\n",
       "      <td>Alternative Investments</td>\n",
       "      <td></td>\n",
       "      <td>Level I</td>\n",
       "      <td>Introduction\\nIn this section, we explain what...</td>\n",
       "      <td>The member should be able to:\\n\\ndescribe type...</td>\n",
       "      <td>This reading provides a comprehensive introduc...</td>\n",
       "      <td></td>\n",
       "      <td>https://www.cfainstitute.org/membership/profes...</td>\n",
       "      <td>2023</td>\n",
       "    </tr>\n",
       "    <tr>\n",
       "      <th>3</th>\n",
       "      <td>Credit Default Swaps</td>\n",
       "      <td>Fixed Income</td>\n",
       "      <td></td>\n",
       "      <td>Level II</td>\n",
       "      <td>Introduction\\nDerivative instruments in which ...</td>\n",
       "      <td>The member should be able to:\\n\\ndescribe cred...</td>\n",
       "      <td>A credit default swap (CDS) is a contract betw...</td>\n",
       "      <td></td>\n",
       "      <td>https://www.cfainstitute.org/membership/profes...</td>\n",
       "      <td>2024</td>\n",
       "    </tr>\n",
       "    <tr>\n",
       "      <th>4</th>\n",
       "      <td>Valuation of Contingent Claims</td>\n",
       "      <td>Derivatives</td>\n",
       "      <td></td>\n",
       "      <td>Level II</td>\n",
       "      <td>Introduction\\nA contingent claim is a derivati...</td>\n",
       "      <td>The member should be able to:\\n\\n\\ndescribe an...</td>\n",
       "      <td>This reading on the valuation of contingent cl...</td>\n",
       "      <td></td>\n",
       "      <td>https://www.cfainstitute.org/membership/profes...</td>\n",
       "      <td>2024</td>\n",
       "    </tr>\n",
       "    <tr>\n",
       "      <th>5</th>\n",
       "      <td>Introduction to Commodities and Commodity Deri...</td>\n",
       "      <td>Alternative Investments</td>\n",
       "      <td></td>\n",
       "      <td>Level II</td>\n",
       "      <td>Introduction\\nIn the upcoming sections, we pre...</td>\n",
       "      <td>The member should be able to:\\n\\n\\ncompare cha...</td>\n",
       "      <td>Commodities are a diverse asset class comprisi...</td>\n",
       "      <td></td>\n",
       "      <td>https://www.cfainstitute.org/membership/profes...</td>\n",
       "      <td>2024</td>\n",
       "    </tr>\n",
       "    <tr>\n",
       "      <th>6</th>\n",
       "      <td>Understanding Income Statements</td>\n",
       "      <td>Financial Reporting and Analysis</td>\n",
       "      <td></td>\n",
       "      <td>Level I</td>\n",
       "      <td>Introduction\\nThe income statement presents in...</td>\n",
       "      <td>The member should be able to:\\n\\n\\ndescribe th...</td>\n",
       "      <td>This reading has presented the elements of inc...</td>\n",
       "      <td></td>\n",
       "      <td>https://www.cfainstitute.org/membership/profes...</td>\n",
       "      <td>2023</td>\n",
       "    </tr>\n",
       "    <tr>\n",
       "      <th>7</th>\n",
       "      <td>Pricing and Valuation of Forward Commitments</td>\n",
       "      <td>Derivatives</td>\n",
       "      <td></td>\n",
       "      <td>Level II</td>\n",
       "      <td>Introduction\\nForward commitments include forw...</td>\n",
       "      <td>The member should be able to:\\n\\n\\ndescribe th...</td>\n",
       "      <td>This reading on forward commitment pricing and...</td>\n",
       "      <td></td>\n",
       "      <td>https://www.cfainstitute.org/membership/profes...</td>\n",
       "      <td>2024</td>\n",
       "    </tr>\n",
       "    <tr>\n",
       "      <th>8</th>\n",
       "      <td>Private Equity Investments</td>\n",
       "      <td>Alternative Investments</td>\n",
       "      <td></td>\n",
       "      <td>Level II</td>\n",
       "      <td>Introduction\\nPrivate equity’s shift from a ni...</td>\n",
       "      <td>The member should be able to:\\n\\n\\nexplain sou...</td>\n",
       "      <td>Private equity funds seek to add value by vari...</td>\n",
       "      <td></td>\n",
       "      <td>https://www.cfainstitute.org/membership/profes...</td>\n",
       "      <td>2023</td>\n",
       "    </tr>\n",
       "    <tr>\n",
       "      <th>9</th>\n",
       "      <td>Valuation and Analysis of Bonds with Embedded ...</td>\n",
       "      <td>Fixed Income</td>\n",
       "      <td></td>\n",
       "      <td>Level II</td>\n",
       "      <td>Introduction\\nThe valuation of a fixed-rate, o...</td>\n",
       "      <td>The member should be able to:\\n\\ndescribe fixe...</td>\n",
       "      <td>An embedded option represents a right that can...</td>\n",
       "      <td></td>\n",
       "      <td>https://www.cfainstitute.org/membership/profes...</td>\n",
       "      <td>2024</td>\n",
       "    </tr>\n",
       "  </tbody>\n",
       "</table>\n",
       "</div>"
      ],
      "text/plain": [
       "                                               title  \\\n",
       "0                               Time-Series Analysis   \n",
       "1                             Credit Analysis Models   \n",
       "2            Introduction to Alternative Investments   \n",
       "3                               Credit Default Swaps   \n",
       "4                     Valuation of Contingent Claims   \n",
       "5  Introduction to Commodities and Commodity Deri...   \n",
       "6                    Understanding Income Statements   \n",
       "7       Pricing and Valuation of Forward Commitments   \n",
       "8                         Private Equity Investments   \n",
       "9  Valuation and Analysis of Bonds with Embedded ...   \n",
       "\n",
       "                              topic published_year     level  \\\n",
       "0              Quantitative Methods                 Level II   \n",
       "1                      Fixed Income                 Level II   \n",
       "2           Alternative Investments                  Level I   \n",
       "3                      Fixed Income                 Level II   \n",
       "4                       Derivatives                 Level II   \n",
       "5           Alternative Investments                 Level II   \n",
       "6  Financial Reporting and Analysis                  Level I   \n",
       "7                       Derivatives                 Level II   \n",
       "8           Alternative Investments                 Level II   \n",
       "9                      Fixed Income                 Level II   \n",
       "\n",
       "                                        introduction  \\\n",
       "0  Introduction\\nAs financial analysts, we often ...   \n",
       "1  Introduction\\nCredit analysis plays an importa...   \n",
       "2  Introduction\\nIn this section, we explain what...   \n",
       "3  Introduction\\nDerivative instruments in which ...   \n",
       "4  Introduction\\nA contingent claim is a derivati...   \n",
       "5  Introduction\\nIn the upcoming sections, we pre...   \n",
       "6  Introduction\\nThe income statement presents in...   \n",
       "7  Introduction\\nForward commitments include forw...   \n",
       "8  Introduction\\nPrivate equity’s shift from a ni...   \n",
       "9  Introduction\\nThe valuation of a fixed-rate, o...   \n",
       "\n",
       "                                   learning_outcomes  \\\n",
       "0  The member should be able to:\\n\\n\\n\\ncalculate...   \n",
       "1  The member should be able to:\\n\\nexplain expec...   \n",
       "2  The member should be able to:\\n\\ndescribe type...   \n",
       "3  The member should be able to:\\n\\ndescribe cred...   \n",
       "4  The member should be able to:\\n\\n\\ndescribe an...   \n",
       "5  The member should be able to:\\n\\n\\ncompare cha...   \n",
       "6  The member should be able to:\\n\\n\\ndescribe th...   \n",
       "7  The member should be able to:\\n\\n\\ndescribe th...   \n",
       "8  The member should be able to:\\n\\n\\nexplain sou...   \n",
       "9  The member should be able to:\\n\\ndescribe fixe...   \n",
       "\n",
       "                                             summary overview  \\\n",
       "0  The predicted trend value of a time series in ...            \n",
       "1  This reading has covered several important top...            \n",
       "2  This reading provides a comprehensive introduc...            \n",
       "3  A credit default swap (CDS) is a contract betw...            \n",
       "4  This reading on the valuation of contingent cl...            \n",
       "5  Commodities are a diverse asset class comprisi...            \n",
       "6  This reading has presented the elements of inc...            \n",
       "7  This reading on forward commitment pricing and...            \n",
       "8  Private equity funds seek to add value by vari...            \n",
       "9  An embedded option represents a right that can...            \n",
       "\n",
       "                                                link  year  \n",
       "0  https://www.cfainstitute.org/membership/profes...  2024  \n",
       "1  https://www.cfainstitute.org/membership/profes...  2024  \n",
       "2  https://www.cfainstitute.org/membership/profes...  2023  \n",
       "3  https://www.cfainstitute.org/membership/profes...  2024  \n",
       "4  https://www.cfainstitute.org/membership/profes...  2024  \n",
       "5  https://www.cfainstitute.org/membership/profes...  2024  \n",
       "6  https://www.cfainstitute.org/membership/profes...  2023  \n",
       "7  https://www.cfainstitute.org/membership/profes...  2024  \n",
       "8  https://www.cfainstitute.org/membership/profes...  2023  \n",
       "9  https://www.cfainstitute.org/membership/profes...  2024  "
      ]
     },
     "execution_count": 140,
     "metadata": {},
     "output_type": "execute_result"
    }
   ],
   "source": [
    "df"
   ]
  },
  {
   "cell_type": "code",
   "execution_count": 138,
   "id": "56e79cef",
   "metadata": {},
   "outputs": [
    {
     "ename": "NameError",
     "evalue": "name 'refresher_readings_list' is not defined",
     "output_type": "error",
     "traceback": [
      "\u001b[0;31m---------------------------------------------------------------------------\u001b[0m",
      "\u001b[0;31mNameError\u001b[0m                                 Traceback (most recent call last)",
      "Cell \u001b[0;32mIn[138], line 1\u001b[0m\n\u001b[0;32m----> 1\u001b[0m \u001b[43mrefresher_readings_list\u001b[49m\n",
      "\u001b[0;31mNameError\u001b[0m: name 'refresher_readings_list' is not defined"
     ]
    }
   ],
   "source": [
    "refresher_readings_list"
   ]
  },
  {
   "cell_type": "code",
   "execution_count": null,
   "id": "e8e892d9",
   "metadata": {},
   "outputs": [],
   "source": [
    "df = scrape_reading_detail(refresher_readings_list)"
   ]
  }
 ],
 "metadata": {
  "kernelspec": {
   "display_name": "Python 3 (ipykernel)",
   "language": "python",
   "name": "python3"
  },
  "language_info": {
   "codemirror_mode": {
    "name": "ipython",
    "version": 3
   },
   "file_extension": ".py",
   "mimetype": "text/x-python",
   "name": "python",
   "nbconvert_exporter": "python",
   "pygments_lexer": "ipython3",
   "version": "3.11.5"
  }
 },
 "nbformat": 4,
 "nbformat_minor": 5
}
